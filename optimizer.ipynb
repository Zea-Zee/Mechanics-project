{
 "cells": [
  {
   "cell_type": "code",
   "execution_count": 1,
   "metadata": {},
   "outputs": [
    {
     "ename": "ValueError",
     "evalue": "Unknown solver L-BFGS-B",
     "output_type": "error",
     "traceback": [
      "\u001b[1;31m---------------------------------------------------------------------------\u001b[0m",
      "\u001b[1;31mValueError\u001b[0m                                Traceback (most recent call last)",
      "Cell \u001b[1;32mIn[1], line 61\u001b[0m\n\u001b[0;32m     59\u001b[0m \u001b[38;5;66;03m# Использование класса\u001b[39;00m\n\u001b[0;32m     60\u001b[0m trebuchet_optimizer \u001b[38;5;241m=\u001b[39m TrebuchetOptimizer(m_missile\u001b[38;5;241m=\u001b[39m\u001b[38;5;241m10\u001b[39m, arm_length\u001b[38;5;241m=\u001b[39m\u001b[38;5;241m5\u001b[39m, frame_height\u001b[38;5;241m=\u001b[39m\u001b[38;5;241m2\u001b[39m)\n\u001b[1;32m---> 61\u001b[0m opt_params \u001b[38;5;241m=\u001b[39m \u001b[43mtrebuchet_optimizer\u001b[49m\u001b[38;5;241;43m.\u001b[39;49m\u001b[43moptimize\u001b[49m\u001b[43m(\u001b[49m\u001b[43m)\u001b[49m\n\u001b[0;32m     63\u001b[0m \u001b[38;5;28;01mif\u001b[39;00m opt_params:\n\u001b[0;32m     64\u001b[0m     m_weight, arm_ratio, launch_angle, release_angle \u001b[38;5;241m=\u001b[39m opt_params\n",
      "Cell \u001b[1;32mIn[1], line 53\u001b[0m, in \u001b[0;36mTrebuchetOptimizer.optimize\u001b[1;34m(self, arm_ratio_range, m_weight_guess, launch_angle_guess)\u001b[0m\n\u001b[0;32m     50\u001b[0m \u001b[38;5;66;03m# Начальное приближение\u001b[39;00m\n\u001b[0;32m     51\u001b[0m x0 \u001b[38;5;241m=\u001b[39m [m_weight_guess, \u001b[38;5;241m0.5\u001b[39m, launch_angle_guess, math\u001b[38;5;241m.\u001b[39mpi\u001b[38;5;241m/\u001b[39m\u001b[38;5;241m6\u001b[39m]\n\u001b[1;32m---> 53\u001b[0m result \u001b[38;5;241m=\u001b[39m \u001b[43mminimize_scalar\u001b[49m\u001b[43m(\u001b[49m\u001b[43mobjective\u001b[49m\u001b[43m,\u001b[49m\u001b[43m \u001b[49m\u001b[43mmethod\u001b[49m\u001b[38;5;241;43m=\u001b[39;49m\u001b[38;5;124;43m'\u001b[39;49m\u001b[38;5;124;43mL-BFGS-B\u001b[39;49m\u001b[38;5;124;43m'\u001b[39;49m\u001b[43m,\u001b[49m\u001b[43m \u001b[49m\u001b[43mbounds\u001b[49m\u001b[38;5;241;43m=\u001b[39;49m\u001b[43mbounds\u001b[49m\u001b[43m)\u001b[49m\n\u001b[0;32m     54\u001b[0m \u001b[38;5;28;01mif\u001b[39;00m result\u001b[38;5;241m.\u001b[39msuccess:\n\u001b[0;32m     55\u001b[0m     \u001b[38;5;28;01mreturn\u001b[39;00m result\u001b[38;5;241m.\u001b[39mx  \u001b[38;5;66;03m# Возвращаем оптимальные параметры\u001b[39;00m\n",
      "File \u001b[1;32mc:\\Users\\kuzga\\Desktop\\Mechanics-project\\.venv\\Lib\\site-packages\\scipy\\optimize\\_minimize.py:971\u001b[0m, in \u001b[0;36mminimize_scalar\u001b[1;34m(fun, bracket, bounds, args, method, tol, options)\u001b[0m\n\u001b[0;32m    968\u001b[0m     res \u001b[38;5;241m=\u001b[39m _recover_from_bracket_error(_minimize_scalar_golden,\n\u001b[0;32m    969\u001b[0m                                       fun, bracket, args, \u001b[38;5;241m*\u001b[39m\u001b[38;5;241m*\u001b[39moptions)\n\u001b[0;32m    970\u001b[0m \u001b[38;5;28;01melse\u001b[39;00m:\n\u001b[1;32m--> 971\u001b[0m     \u001b[38;5;28;01mraise\u001b[39;00m \u001b[38;5;167;01mValueError\u001b[39;00m(\u001b[38;5;124m'\u001b[39m\u001b[38;5;124mUnknown solver \u001b[39m\u001b[38;5;132;01m%s\u001b[39;00m\u001b[38;5;124m'\u001b[39m \u001b[38;5;241m%\u001b[39m method)\n\u001b[0;32m    973\u001b[0m \u001b[38;5;66;03m# gh-16196 reported inconsistencies in the output shape of `res.x`. While\u001b[39;00m\n\u001b[0;32m    974\u001b[0m \u001b[38;5;66;03m# fixing this, future-proof it for when the function is vectorized:\u001b[39;00m\n\u001b[0;32m    975\u001b[0m \u001b[38;5;66;03m# the shape of `res.x` should match that of `res.fun`.\u001b[39;00m\n\u001b[0;32m    976\u001b[0m res\u001b[38;5;241m.\u001b[39mfun \u001b[38;5;241m=\u001b[39m np\u001b[38;5;241m.\u001b[39masarray(res\u001b[38;5;241m.\u001b[39mfun)[()]\n",
      "\u001b[1;31mValueError\u001b[0m: Unknown solver L-BFGS-B"
     ]
    }
   ],
   "source": [
    "import math\n",
    "import numpy as np\n",
    "import matplotlib.pyplot as plt\n",
    "from scipy.optimize import minimize_scalar\n",
    "\n",
    "class TrebuchetOptimizer:\n",
    "    def __init__(self, m_missile, arm_length, frame_height, g=9.81):\n",
    "        self.m_missile = m_missile\n",
    "        self.arm_length = arm_length\n",
    "        self.frame_height = frame_height\n",
    "        self.g = g\n",
    "\n",
    "    def launch_velocity(self, m_weight, arm_ratio, launch_angle):\n",
    "        missile_arm_length = self.arm_length * (1 - arm_ratio)\n",
    "        weight_arm_length = self.arm_length * arm_ratio\n",
    "\n",
    "        # Потенциальная энергия противовеса\n",
    "        h = self.frame_height + weight_arm_length * math.sin(launch_angle)\n",
    "        potential_energy = m_weight * self.g * h\n",
    "        \n",
    "        # Кинетическая энергия снаряда\n",
    "        velocity = math.sqrt((2 * potential_energy) / self.m_missile)\n",
    "        return velocity\n",
    "\n",
    "    def trajectory_distance(self, m_weight, arm_ratio, launch_angle, release_angle):\n",
    "        v0 = self.launch_velocity(m_weight, arm_ratio, launch_angle)\n",
    "        \n",
    "        v_x = v0 * math.cos(release_angle)\n",
    "        v_y = v0 * math.sin(release_angle)\n",
    "        \n",
    "        # Время до падения\n",
    "        flight_time = (v_y + math.sqrt(v_y**2 + 2 * self.g * self.frame_height)) / self.g\n",
    "        distance = v_x * flight_time\n",
    "        return distance\n",
    "\n",
    "    def optimize(self, arm_ratio_range=(0.1, 0.9), m_weight_guess=100, launch_angle_guess=math.pi/4):\n",
    "        def objective(params):\n",
    "            m_weight, arm_ratio, launch_angle, release_angle = params\n",
    "            distance = -self.trajectory_distance(m_weight, arm_ratio, launch_angle, release_angle)\n",
    "            return distance\n",
    "        \n",
    "        # Границы для параметров\n",
    "        bounds = [\n",
    "            (10, 1000),            # Масса противовеса\n",
    "            (0.1, 0.9),            # Соотношение плеч рычага\n",
    "            (0.1, math.pi/2),      # Угол запуска\n",
    "            (0.1, math.pi/2)       # Угол вылета\n",
    "        ]\n",
    "        \n",
    "        # Начальное приближение\n",
    "        x0 = [m_weight_guess, 0.5, launch_angle_guess, math.pi/6]\n",
    "        \n",
    "        result = minimize_scalar(objective, method='L-BFGS-B', bounds=bounds)\n",
    "        if result.success:\n",
    "            return result.x  # Возвращаем оптимальные параметры\n",
    "        else:\n",
    "            return None\n",
    "\n",
    "# Использование класса\n",
    "trebuchet_optimizer = TrebuchetOptimizer(m_missile=10, arm_length=5, frame_height=2)\n",
    "opt_params = trebuchet_optimizer.optimize()\n",
    "\n",
    "if opt_params:\n",
    "    m_weight, arm_ratio, launch_angle, release_angle = opt_params\n",
    "    print(f\"Оптимальные параметры:\")\n",
    "    print(f\"Масса противовеса: {m_weight:.2f} кг\")\n",
    "    print(f\"Соотношение плеч рычага: {arm_ratio:.2f}\")\n",
    "    print(f\"Стартовый угол: {math.degrees(launch_angle):.2f} градусов\")\n",
    "    print(f\"Угол вылета: {math.degrees(release_angle):.2f} градусов\")\n",
    "else:\n",
    "    print(\"Оптимизация не удалась\")\n"
   ]
  },
  {
   "cell_type": "code",
   "execution_count": null,
   "metadata": {},
   "outputs": [],
   "source": []
  }
 ],
 "metadata": {
  "kernelspec": {
   "display_name": ".venv",
   "language": "python",
   "name": "python3"
  },
  "language_info": {
   "codemirror_mode": {
    "name": "ipython",
    "version": 3
   },
   "file_extension": ".py",
   "mimetype": "text/x-python",
   "name": "python",
   "nbconvert_exporter": "python",
   "pygments_lexer": "ipython3",
   "version": "3.12.2"
  }
 },
 "nbformat": 4,
 "nbformat_minor": 2
}
