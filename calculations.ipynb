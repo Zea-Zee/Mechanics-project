{
 "cells": [
  {
   "cell_type": "code",
   "execution_count": 4,
   "metadata": {},
   "outputs": [],
   "source": [
    "import math\n",
    "import numpy as np"
   ]
  },
  {
   "cell_type": "code",
   "execution_count": 5,
   "metadata": {},
   "outputs": [],
   "source": [
    "G = 9.81"
   ]
  },
  {
   "cell_type": "code",
   "execution_count": 6,
   "metadata": {},
   "outputs": [],
   "source": [
    "def calculate_r(m1, m2, h, l, a1, a2, shift=0.07, ma=0.018):\n",
    "    '''\n",
    "    m1 - mass of projectile \\n\n",
    "    m2 - mass of counterweight \\n\n",
    "    h - height of mount \\n\n",
    "    l - length of lever \\n\n",
    "    a1 - start angle \\n\n",
    "    a2 - finish angle (Measured in the opposite direction from the starting point) \\n\n",
    "    shift - difference between middle of trebushet and position of throw \\n\n",
    "    ma - mass of lever \\n\n",
    "    '''\n",
    "\n",
    "    a1r = np.radians(a1)\n",
    "    a2r = np.radians(a2)\n",
    "\n",
    "#----------------------------------------------------------------------------------------------\n",
    "    # epsilon = ((12*G*(m2-m1))/(l*(ma+3*m1+3*m2)))\n",
    "    # acceleration = epsilon * l\n",
    "    # print(epsilon, acceleration)\n",
    "    # time = np.sqrt((2*(np.radians(180)-a1r-a2r))/(epsilon))\n",
    "    # print(time)\n",
    "\n",
    "    # speed_new = np.sqrt(acceleration * time)\n",
    "    # print('speed_new:', speed_new)\n",
    "\n",
    "    I_1 = m1*(l**2) + (ma*(l**2))/3\n",
    "    I_1 = m2*(l**2) + (ma*(l**2))/3\n",
    "\n",
    "    M_1 = m1 * G * l\n",
    "    M_2 = m2 * G * l\n",
    "\n",
    "    eps_1 = M_1 / I_1\n",
    "    eps_2 = M_2 / I_1\n",
    "\n",
    "    eps = eps_2 - eps_1\n",
    "    #print(f'ускорение m1: {eps_1}, m2: {eps_2}')\n",
    "    acceleration = eps * l\n",
    "    #print('ускорение:', eps, acceleration)\n",
    "\n",
    "    time = np.sqrt((2*(np.radians(180-a2-a1)))/(eps))\n",
    "    #print('время ускорения', time)\n",
    "\n",
    "    speed_new = acceleration * time\n",
    "    #print('speed_new:', speed_new)\n",
    "#----------------------------------------------------------------------------------------------\n",
    "\n",
    "    #speed = np.sqrt((2*G*l*(np.cos(a1r) + np.cos(a2r))*(m2-m1))/(m2+m1+(ma/3)))\n",
    "    speed = speed_new\n",
    "    print('speed:', speed)\n",
    "    \n",
    "    delta_t = (2*speed*np.sin(a2r))/G\n",
    "    x1 = delta_t*speed*np.cos(a2r)\n",
    "    \n",
    "    #D = (2*speed*np.sin(a2r))**2 + 8*G*h*(1 + np.cos(a2r))\n",
    "    D = (2*speed*np.sin(a2r))**2 + 8*G*(h+l*np.cos(a2r))\n",
    "    #print('D:', D)\n",
    "    t1 = (-2*speed*np.sin(a2r) + np.sqrt(D))/(2*G)\n",
    "    #print('t1:', t1)\n",
    "    x2 = speed*np.cos(a2r)*t1\n",
    "    #print('x1:', x1, 'x2:', x2)\n",
    "    \n",
    "    length = x1+x2-shift\n",
    "    print(f'length (m1={m1}, m2={m2}) = {length*100:.1f}cm')\n",
    "    #return length"
   ]
  },
  {
   "cell_type": "code",
   "execution_count": 12,
   "metadata": {},
   "outputs": [
    {
     "name": "stdout",
     "output_type": "stream",
     "text": [
      "0.07169705454388076\n"
     ]
    }
   ],
   "source": [
    "# Веса в КГ\n",
    "ball = 0.0168\n",
    "jump_ball = 0.0111\n",
    "fixing = 0.009 + 0.0025 + 0.0025 * 2 #= 0.0165\n",
    "backet = [0.010, 0.027, 0.043, 0.060, 0.077]\n",
    "lever_mass = 0.019\n",
    "frame_mass = 0.066\n",
    "\n",
    "# Длины в метрах\n",
    "lever_length = 0.125\n",
    "frame_heigth = 0.151\n",
    "bruss_heigth = 0.015\n",
    "\n",
    "# Углы в градусах\n",
    "alpha = 33\n",
    "beta = 35\n",
    "\n",
    "# Сдвиг\n",
    "shift = lever_length * np.sin(np.radians(beta))\n",
    "print(shift)"
   ]
  },
  {
   "cell_type": "code",
   "execution_count": 13,
   "metadata": {},
   "outputs": [
    {
     "name": "stdout",
     "output_type": "stream",
     "text": [
      "speed: 1.9455325809983832\n",
      "length (m1=0.0111, m2=0.0765) = 52.4cm\n"
     ]
    }
   ],
   "source": [
    "calculate_r(jump_ball, backet[3] + fixing, frame_heigth + bruss_heigth, lever_length, alpha, beta, shift, lever_mass)"
   ]
  },
  {
   "cell_type": "code",
   "execution_count": null,
   "metadata": {},
   "outputs": [],
   "source": []
  }
 ],
 "metadata": {
  "kernelspec": {
   "display_name": "Python 3",
   "language": "python",
   "name": "python3"
  },
  "language_info": {
   "codemirror_mode": {
    "name": "ipython",
    "version": 3
   },
   "file_extension": ".py",
   "mimetype": "text/x-python",
   "name": "python",
   "nbconvert_exporter": "python",
   "pygments_lexer": "ipython3",
   "version": "3.12.3"
  }
 },
 "nbformat": 4,
 "nbformat_minor": 2
}
